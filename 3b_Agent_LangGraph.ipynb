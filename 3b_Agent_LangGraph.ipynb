{
 "cells": [
  {
   "cell_type": "code",
   "execution_count": 1,
   "id": "6b252122",
   "metadata": {},
   "outputs": [],
   "source": [
    "from google import genai\n",
    "from google.genai import types\n",
    "\n",
    "from IPython.display import Markdown"
   ]
  },
  {
   "cell_type": "code",
   "execution_count": 2,
   "id": "3df6c720",
   "metadata": {},
   "outputs": [],
   "source": [
    "import os\n",
    "\n",
    "os.environ[\"GOOGLE_API_KEY\"] = \"******************************\"\n",
    "GOOGLE_API_KEY = os.getenv(\"GOOGLE_API_KEY\")"
   ]
  },
  {
   "cell_type": "code",
   "execution_count": 3,
   "id": "7f55985a",
   "metadata": {},
   "outputs": [],
   "source": [
    "#Pravljenje chatbota za sistem u kaficima"
   ]
  },
  {
   "cell_type": "code",
   "execution_count": 4,
   "id": "44af0610",
   "metadata": {},
   "outputs": [],
   "source": [
    "#Langgraph - aplikacije koje su pravljenje u strukturi grafova. \n",
    "#Cvor - akcija koje moze da se preduzme\n",
    "#Grana - Tranzicija izmedju akcija"
   ]
  },
  {
   "cell_type": "code",
   "execution_count": 5,
   "id": "5ae9bf97",
   "metadata": {},
   "outputs": [],
   "source": [
    "from typing import Annotated\n",
    "from typing_extensions import TypedDict\n",
    "\n",
    "from langgraph.graph.message import add_messages"
   ]
  },
  {
   "cell_type": "code",
   "execution_count": 6,
   "id": "56613c36",
   "metadata": {},
   "outputs": [],
   "source": [
    "#Stanje porudzbine musterije"
   ]
  },
  {
   "cell_type": "code",
   "execution_count": 7,
   "id": "93fcf85a",
   "metadata": {},
   "outputs": [],
   "source": [
    "class OrderState(TypedDict):\n",
    "    messages: Annotated[list, add_messages]\n",
    "    order: list[str]\n",
    "    finished: bool\n",
    "    \n",
    "BARISTABOT = (\n",
    "    \"system\",\n",
    "    \"You are a BaristaBot, an interactive cafe ordering system. A human will talk to you about the \"\n",
    "    \"available products you have and you will answer any questions about menu items (and only about \"\n",
    "    \"menu items - no off-topic discussion, but you can chat about the products and their history). \"\n",
    "    \"The customer will place an order for 1 or more items from the menu, which you will structure \"\n",
    "    \"and send to the ordering system after confirming the order with the human. \"\n",
    "    \"\\n\\n\"\n",
    "    \"Add items to the customer's order with add_to_order, and reset the order with clear_order. \"\n",
    "    \"To see the contents of the order so far, call get_order (this is shown to you, not the user) \"\n",
    "    \"Always confirm_order with the user (double-check) before calling place_order. Calling confirm_order will \"\n",
    "    \"display the order items to the user and returns their response to seeing the list. Their response may contain modifications. \"\n",
    "    \"Always verify and respond with drink and modifier names from the MENU before adding them to the order. \"\n",
    "    \"If you are unsure a drink or modifier matches those on the MENU, ask a question to clarify or redirect. \"\n",
    "    \"You only have the modifiers listed on the menu. \"\n",
    "    \"Once the customer has finished ordering items, Call confirm_order to ensure it is correct then make \"\n",
    "    \"any necessary updates and then call place_order. Once place_order has returned, thank the user and \"\n",
    "    \"say goodbye!\"\n",
    "    \"\\n\\n\"\n",
    "    \"If any of the tools are unavailable, you can break the fourth wall and tell the user that \"\n",
    "    \"they have not implemented them yet and should keep reading to do so.\"\n",
    "    \n",
    ")\n",
    "\n",
    "WELCOME_MSG = \"Welcomte to the BaristaBot caffe. Type 'q' to quit. How may I serve you today?\""
   ]
  },
  {
   "cell_type": "code",
   "execution_count": 8,
   "id": "90ab89fe",
   "metadata": {},
   "outputs": [],
   "source": [
    "#Definisanje poteza naseg chatbota"
   ]
  },
  {
   "cell_type": "code",
   "execution_count": 9,
   "id": "345dfefb",
   "metadata": {},
   "outputs": [],
   "source": [
    "from langgraph.graph import StateGraph, START, END\n",
    "from langchain_google_genai import ChatGoogleGenerativeAI\n",
    "\n",
    "llm = ChatGoogleGenerativeAI(model = 'gemini-2.0-flash')\n",
    "\n",
    "def chatbot(state):\n",
    "    message_history = [BARISTABOT] + state[\"messages\"]\n",
    "    return {\"messages\": [llm.invoke(message_history)]}\n",
    "\n",
    "graph_builder = StateGraph(OrderState)\n",
    "\n",
    "graph_builder.add_node(\"chatbot\", chatbot)\n",
    "\n",
    "graph_builder.add_edge(START, \"chatbot\")\n",
    "\n",
    "chat_graph = graph_builder.compile()"
   ]
  },
  {
   "cell_type": "code",
   "execution_count": 10,
   "id": "fd19f36c",
   "metadata": {},
   "outputs": [
    {
     "data": {
      "image/png": "[encoded data removed]",
      "text/plain": [
       "<IPython.core.display.Image object>"
      ]
     },
     "execution_count": 10,
     "metadata": {},
     "output_type": "execute_result"
    }
   ],
   "source": [
    "from IPython.display import Image, display\n",
    "\n",
    "Image(chat_graph.get_graph().draw_mermaid_png())"
   ]
  },
  {
   "cell_type": "code",
   "execution_count": 11,
   "id": "689a8185",
   "metadata": {},
   "outputs": [],
   "source": [
    "#Graph, tj chatbot sada moze da se pokrene. Da bi se pokrenuo,\n",
    "#mora da se pozove invoke i ubaci inicajlno stanje objekta"
   ]
  },
  {
   "cell_type": "code",
   "execution_count": 12,
   "id": "ec1c65a0",
   "metadata": {},
   "outputs": [
    {
     "name": "stdout",
     "output_type": "stream",
     "text": [
      "HumanMessage : Hello, what can you do?\n",
      "AIMessage : Hi there! I'm BaristaBot, your friendly cafe ordering system. I can tell you about our menu items, answer questions about them, and take your order. I can add items to your order, modify them, and confirm everything before sending it off to the kitchen. What are you in the mood for today?\n"
     ]
    }
   ],
   "source": [
    "from pprint import pprint\n",
    "\n",
    "user_msg = \"Hello, what can you do?\"\n",
    "state = chat_graph.invoke({\"messages\": [user_msg]})\n",
    "\n",
    "for msg in state[\"messages\"]:\n",
    "    print(f\"{type(msg).__name__} : {msg.content}\")"
   ]
  },
  {
   "cell_type": "code",
   "execution_count": 13,
   "id": "98ec52c3",
   "metadata": {},
   "outputs": [],
   "source": [
    "#Sada cemo ubaciti i ljudsko stanje i time omoguciti\n",
    "#prirodno kruzenje izmedju cvorova"
   ]
  },
  {
   "cell_type": "code",
   "execution_count": 14,
   "id": "441b55cd",
   "metadata": {},
   "outputs": [
    {
     "data": {
      "image/png": "[encoded data removed]",
      "text/plain": [
       "<IPython.core.display.Image object>"
      ]
     },
     "execution_count": 14,
     "metadata": {},
     "output_type": "execute_result"
    }
   ],
   "source": [
    "from langchain_core.messages.ai import AIMessage\n",
    "from typing import Literal\n",
    "\n",
    "def human_node(state):\n",
    "    last_msg = state[\"messages\"][-1]\n",
    "    print(\"Model:\", last_msg.content)\n",
    "    \n",
    "    user_input = input(\"User: \")\n",
    "    \n",
    "    if user_input in {\"q\", \"quit\", \"exit\", \"goodbye\"}:\n",
    "        state[\"finished\"] = True\n",
    "        \n",
    "    return state | {\"messages\" : [(\"user\", user_input)]}\n",
    "\n",
    "def chatbot_with_welcome_msg(state):\n",
    "    if state[\"messages\"]:\n",
    "        new_output = llm.invoke([BARISTABOT] + state[\"messages\"])\n",
    "    else:\n",
    "        new_output = AIMessage(content=WELCOME_MSG)\n",
    "        \n",
    "    return state | {\"messages\": [new_output]}\n",
    "\n",
    "\n",
    "graph_builder = StateGraph(OrderState)\n",
    "\n",
    "graph_builder.add_node(\"chatbot\", chatbot_with_welcome_msg)\n",
    "graph_builder.add_node(\"human\", human_node)\n",
    "\n",
    "graph_builder.add_edge(START, \"chatbot\")\n",
    "graph_builder.add_edge(\"chatbot\", \"human\");\n",
    "\n",
    "#Neophodno je dodati akciju za izlazak, u suprotnom ce se kruziti beskonacno\n",
    "\n",
    "def maybe_exit_human_node(state):\n",
    "    if state.get(\"finished\", False):\n",
    "        return END\n",
    "    else:\n",
    "        return \"chatbot\"\n",
    "\n",
    "\n",
    "graph_builder.add_conditional_edges(\"human\", maybe_exit_human_node)\n",
    "\n",
    "chat_with_human_graph = graph_builder.compile()\n",
    "\n",
    "Image(chat_with_human_graph.get_graph().draw_mermaid_png())"
   ]
  },
  {
   "cell_type": "code",
   "execution_count": 15,
   "id": "15b8e392",
   "metadata": {},
   "outputs": [],
   "source": [
    "#limit rekurzije je 25. Sto je veci limit, \n",
    "#to pitanja mogu biti kompleksnija\n",
    "#q - izlaz"
   ]
  },
  {
   "cell_type": "code",
   "execution_count": 16,
   "id": "8b206717",
   "metadata": {},
   "outputs": [
    {
     "name": "stdout",
     "output_type": "stream",
     "text": [
      "Model: Welcomte to the BaristaBot caffe. Type 'q' to quit. How may I serve you today?\n"
     ]
    },
    {
     "name": "stdin",
     "output_type": "stream",
     "text": [
      "User:  Hello\n"
     ]
    },
    {
     "name": "stdout",
     "output_type": "stream",
     "text": [
      "Model: Hi there! What can I get for you today?\n"
     ]
    },
    {
     "name": "stdin",
     "output_type": "stream",
     "text": [
      "User:  q\n"
     ]
    }
   ],
   "source": [
    "config = {\"recursion_limit\": 100}\n",
    "state = chat_with_human_graph.invoke({\"messages\": []}, config)"
   ]
  },
  {
   "cell_type": "code",
   "execution_count": 17,
   "id": "666a5a0f",
   "metadata": {},
   "outputs": [],
   "source": [
    "#Dodavanje svesnosti botu. Trenutno chatbot ne razmislja o stanju\n",
    "#resursa u kaficu"
   ]
  },
  {
   "cell_type": "code",
   "execution_count": 19,
   "id": "5c95049a",
   "metadata": {},
   "outputs": [],
   "source": [
    "from langchain_core.tools import tool\n",
    "\n",
    "@tool\n",
    "def get_menu():\n",
    "    \"\"\"This function does something important.\"\"\"\n",
    "    return \"\"\"\n",
    "    MENU:\n",
    "    Coffee Drinks:\n",
    "    Espresso\n",
    "    Americano\n",
    "    Cold Brew\n",
    "\n",
    "    Coffee Drinks with Milk:\n",
    "    Latte\n",
    "    Cappuccino\n",
    "    Cortado\n",
    "    Macchiato\n",
    "    Mocha\n",
    "    Flat White\n",
    "\n",
    "    Tea Drinks:\n",
    "    English Breakfast Tea\n",
    "    Green Tea\n",
    "    Earl Grey\n",
    "\n",
    "    Tea Drinks with Milk:\n",
    "    Chai Latte\n",
    "    Matcha Latte\n",
    "    London Fog\n",
    "\n",
    "    Other Drinks:\n",
    "    Steamer\n",
    "    Hot Chocolate\n",
    "\n",
    "    Modifiers:\n",
    "    Milk options: Whole, 2%, Oat, Almond, 2% Lactose Free; Default option: whole\n",
    "    Espresso shots: Single, Double, Triple, Quadruple; default: Double\n",
    "    Caffeine: Decaf, Regular; default: Regular\n",
    "    Hot-Iced: Hot, Iced; Default: Hot\n",
    "    Sweeteners (option to add one or more): vanilla sweetener, hazelnut sweetener, caramel sauce, chocolate sauce, sugar free vanilla sweetener\n",
    "    Special requests: any reasonable modification that does not involve items not on the menu, for example: 'extra hot', 'one pump', 'half caff', 'extra foam', etc.\n",
    "\n",
    "    \"dirty\" means add a shot of espresso to a drink that doesn't usually have it, like \"Dirty Chai Latte\".\n",
    "    \"Regular milk\" is the same as 'whole milk'.\n",
    "    \"Sweetened\" means add some regular sugar, not a sweetener.\n",
    "\n",
    "    Soy milk has run out of stock today, so soy is not available.\n",
    "  \"\"\"\n",
    "\n"
   ]
  },
  {
   "cell_type": "code",
   "execution_count": 20,
   "id": "bb3491a3",
   "metadata": {},
   "outputs": [],
   "source": [
    "#Chatbot mora da bude svestan alata koji su mu na raspolaganju"
   ]
  },
  {
   "cell_type": "code",
   "execution_count": 24,
   "id": "177343d4",
   "metadata": {},
   "outputs": [
    {
     "data": {
      "image/png": "[encoded data removed]",
      "text/plain": [
       "<IPython.core.display.Image object>"
      ]
     },
     "execution_count": 24,
     "metadata": {},
     "output_type": "execute_result"
    }
   ],
   "source": [
    "from langgraph.prebuilt import ToolNode\n",
    "\n",
    "tools = [get_menu]\n",
    "tool_node = ToolNode(tools)\n",
    "\n",
    "llm_with_tools = llm.bind_tools(tools)\n",
    "\n",
    "def maybe_route_to_tools(state: OrderState) -> Literal[\"tools\", \"human\"]:\n",
    "    if not (msgs := state.get(\"messages\", [])):\n",
    "        raise ValueError(f\"No messages found when parsing state: {state}\")\n",
    "\n",
    "    msg = msgs[-1]\n",
    "\n",
    "    if hasattr(msg, \"tool_calls\") and len(msg.tool_calls) > 0:\n",
    "        return \"tools\"\n",
    "    else:\n",
    "        return \"human\"\n",
    "\n",
    "def chatbot_with_tools(state: OrderState) -> OrderState:\n",
    "    defaults = {\"order\": [], \"finished\": False}\n",
    "\n",
    "    if state[\"messages\"]:\n",
    "        new_output = llm_with_tools.invoke([BARISTABOT] + state[\"messages\"])\n",
    "    else:\n",
    "        new_output = AIMessage(content=WELCOME_MSG)\n",
    "\n",
    "\n",
    "    return defaults | state | {\"messages\": [new_output]}\n",
    "\n",
    "graph_builder = StateGraph(OrderState)\n",
    "\n",
    "graph_builder.add_node(\"chatbot\", chatbot_with_tools)\n",
    "graph_builder.add_node(\"human\", human_node)\n",
    "graph_builder.add_node(\"tools\", tool_node)\n",
    "\n",
    "graph_builder.add_conditional_edges(\"chatbot\", maybe_route_to_tools)\n",
    "graph_builder.add_conditional_edges(\"human\", maybe_exit_human_node)\n",
    "\n",
    "graph_builder.add_edge(\"tools\", \"chatbot\")\n",
    "graph_builder.add_edge(START, \"chatbot\")\n",
    "graph_with_menu = graph_builder.compile()\n",
    "\n",
    "Image(graph_with_menu.get_graph().draw_mermaid_png())\n",
    "\n"
   ]
  },
  {
   "cell_type": "code",
   "execution_count": 26,
   "id": "9b33c956",
   "metadata": {},
   "outputs": [
    {
     "name": "stdout",
     "output_type": "stream",
     "text": [
      "Model: Welcomte to the BaristaBot caffe. Type 'q' to quit. How may I serve you today?\n"
     ]
    },
    {
     "name": "stdin",
     "output_type": "stream",
     "text": [
      "User:  I'd love an espresso drink, what have you got?\n"
     ]
    },
    {
     "name": "stdout",
     "output_type": "stream",
     "text": [
      "Model: We have Espresso, Americano, Latte, Cappuccino, Cortado, Macchiato, Mocha, and Flat White. We also have a cold brew. Which sounds good?\n"
     ]
    },
    {
     "name": "stdin",
     "output_type": "stream",
     "text": [
      "User:  What teas do you have?\n"
     ]
    },
    {
     "name": "stdout",
     "output_type": "stream",
     "text": [
      "Model: We have English Breakfast Tea, Green Tea, Earl Grey, Chai Latte, Matcha Latte, and London Fog.\n"
     ]
    },
    {
     "name": "stdin",
     "output_type": "stream",
     "text": [
      "User:  Can you do a long black? (this is on the menu as an \"Americano\"\n"
     ]
    },
    {
     "name": "stdout",
     "output_type": "stream",
     "text": [
      "Model: Yes, a Long Black is the same as an Americano. Would you like to add that to your order?\n"
     ]
    },
    {
     "name": "stdin",
     "output_type": "stream",
     "text": [
      "User:  Yes\n"
     ]
    },
    {
     "name": "stdout",
     "output_type": "stream",
     "text": [
      "Model: It seems I am not able to add items to your order yet. Please continue to tell me what you would like and I will confirm your order when you are done. You can also ask me more about the menu. I'm very sorry for the inconvenience.\n"
     ]
    },
    {
     "name": "stdin",
     "output_type": "stream",
     "text": [
      "User:  I want Americano\n"
     ]
    },
    {
     "name": "stdout",
     "output_type": "stream",
     "text": [
      "Model: Okay, that's one Americano. Anything else?\n"
     ]
    },
    {
     "name": "stdin",
     "output_type": "stream",
     "text": [
      "User:  that would be all\n"
     ]
    },
    {
     "name": "stdout",
     "output_type": "stream",
     "text": [
      "Model: I am very sorry, but I am not able to confirm your order yet. I will need that functionality to be implemented before proceeding.\n"
     ]
    },
    {
     "name": "stdin",
     "output_type": "stream",
     "text": [
      "User:  q\n"
     ]
    },
    {
     "name": "stdout",
     "output_type": "stream",
     "text": [
      "{'finished': True,\n",
      " 'messages': [AIMessage(content=\"Welcomte to the BaristaBot caffe. Type 'q' to quit. How may I serve you today?\", additional_kwargs={}, response_metadata={}, id='6e435787-5187-40f6-a9ea-4f60377fdb6d'),\n",
      "              HumanMessage(content=\"I'd love an espresso drink, what have you got?\", additional_kwargs={}, response_metadata={}, id='b939bd90-7ffa-45f1-86c3-8b1adf8abc74'),\n",
      "              AIMessage(content='', additional_kwargs={'function_call': {'name': 'get_menu', 'arguments': '{}'}}, response_metadata={'prompt_feedback': {'block_reason': 0, 'safety_ratings': []}, 'finish_reason': 'STOP', 'model_name': 'gemini-2.0-flash', 'safety_ratings': []}, id='run-7ee9435f-c631-4273-9c38-4b383261e0f5-0', tool_calls=[{'name': 'get_menu', 'args': {}, 'id': '6caf5891-26a3-4982-965f-eb9840f78a20', 'type': 'tool_call'}], usage_metadata={'input_tokens': 362, 'output_tokens': 3, 'total_tokens': 365, 'input_token_details': {'cache_read': 0}}),\n",
      "              ToolMessage(content='\\n    MENU:\\n    Coffee Drinks:\\n    Espresso\\n    Americano\\n    Cold Brew\\n\\n    Coffee Drinks with Milk:\\n    Latte\\n    Cappuccino\\n    Cortado\\n    Macchiato\\n    Mocha\\n    Flat White\\n\\n    Tea Drinks:\\n    English Breakfast Tea\\n    Green Tea\\n    Earl Grey\\n\\n    Tea Drinks with Milk:\\n    Chai Latte\\n    Matcha Latte\\n    London Fog\\n\\n    Other Drinks:\\n    Steamer\\n    Hot Chocolate\\n\\n    Modifiers:\\n    Milk options: Whole, 2%, Oat, Almond, 2% Lactose Free; Default option: whole\\n    Espresso shots: Single, Double, Triple, Quadruple; default: Double\\n    Caffeine: Decaf, Regular; default: Regular\\n    Hot-Iced: Hot, Iced; Default: Hot\\n    Sweeteners (option to add one or more): vanilla sweetener, hazelnut sweetener, caramel sauce, chocolate sauce, sugar free vanilla sweetener\\n    Special requests: any reasonable modification that does not involve items not on the menu, for example: \\'extra hot\\', \\'one pump\\', \\'half caff\\', \\'extra foam\\', etc.\\n\\n    \"dirty\" means add a shot of espresso to a drink that doesn\\'t usually have it, like \"Dirty Chai Latte\".\\n    \"Regular milk\" is the same as \\'whole milk\\'.\\n    \"Sweetened\" means add some regular sugar, not a sweetener.\\n\\n    Soy milk has run out of stock today, so soy is not available.\\n  ', name='get_menu', id='6f3e8377-54fd-4493-9200-a6a038071ecd', tool_call_id='6caf5891-26a3-4982-965f-eb9840f78a20'),\n",
      "              AIMessage(content='We have Espresso, Americano, Latte, Cappuccino, Cortado, Macchiato, Mocha, and Flat White. We also have a cold brew. Which sounds good?', additional_kwargs={}, response_metadata={'prompt_feedback': {'block_reason': 0, 'safety_ratings': []}, 'finish_reason': 'STOP', 'model_name': 'gemini-2.0-flash', 'safety_ratings': []}, id='run-d46e9bbc-d3f1-4f9d-9cda-1f3344784dd1-0', usage_metadata={'input_tokens': 689, 'output_tokens': 34, 'total_tokens': 723, 'input_token_details': {'cache_read': 0}}),\n",
      "              HumanMessage(content='What teas do you have?', additional_kwargs={}, response_metadata={}, id='e3d4ae35-0405-4c14-8ed4-e645c479365d'),\n",
      "              AIMessage(content='We have English Breakfast Tea, Green Tea, Earl Grey, Chai Latte, Matcha Latte, and London Fog.', additional_kwargs={}, response_metadata={'prompt_feedback': {'block_reason': 0, 'safety_ratings': []}, 'finish_reason': 'STOP', 'model_name': 'gemini-2.0-flash', 'safety_ratings': []}, id='run-8712786b-5c9c-465c-8d30-7e71dc52684b-0', usage_metadata={'input_tokens': 729, 'output_tokens': 22, 'total_tokens': 751, 'input_token_details': {'cache_read': 0}}),\n",
      "              HumanMessage(content='Can you do a long black? (this is on the menu as an \"Americano\"', additional_kwargs={}, response_metadata={}, id='44a3ec2a-68a0-4364-8991-cb70532d3c7d'),\n",
      "              AIMessage(content='Yes, a Long Black is the same as an Americano. Would you like to add that to your order?', additional_kwargs={}, response_metadata={'prompt_feedback': {'block_reason': 0, 'safety_ratings': []}, 'finish_reason': 'STOP', 'model_name': 'gemini-2.0-flash', 'safety_ratings': []}, id='run-1b66ed9a-ee67-456d-8533-130af380a1eb-0', usage_metadata={'input_tokens': 770, 'output_tokens': 22, 'total_tokens': 792, 'input_token_details': {'cache_read': 0}}),\n",
      "              HumanMessage(content='Yes', additional_kwargs={}, response_metadata={}, id='8b1a533b-38ec-4af4-a159-a670818bbbc3'),\n",
      "              AIMessage(content='', additional_kwargs={'function_call': {'name': 'add_to_order', 'arguments': '{\"item\": \"Americano\"}'}}, response_metadata={'prompt_feedback': {'block_reason': 0, 'safety_ratings': []}, 'finish_reason': 'STOP', 'model_name': 'gemini-2.0-flash', 'safety_ratings': []}, id='run-a3cb44fe-2d77-4d22-8089-aa880ff42ef7-0', tool_calls=[{'name': 'add_to_order', 'args': {'item': 'Americano'}, 'id': '1e2064d4-dc79-41a6-8f08-5f468a410b7e', 'type': 'tool_call'}], usage_metadata={'input_tokens': 793, 'output_tokens': 8, 'total_tokens': 801, 'input_token_details': {'cache_read': 0}}),\n",
      "              ToolMessage(content='Error: add_to_order is not a valid tool, try one of [get_menu].', name='add_to_order', id='f831bd04-c26d-4f78-8a2a-4ee78fdf3b6f', tool_call_id='1e2064d4-dc79-41a6-8f08-5f468a410b7e', status='error'),\n",
      "              AIMessage(content=\"It seems I am not able to add items to your order yet. Please continue to tell me what you would like and I will confirm your order when you are done. You can also ask me more about the menu. I'm very sorry for the inconvenience.\", additional_kwargs={}, response_metadata={'prompt_feedback': {'block_reason': 0, 'safety_ratings': []}, 'finish_reason': 'STOP', 'model_name': 'gemini-2.0-flash', 'safety_ratings': []}, id='run-e7cc7d48-f32b-43b6-9a39-112b5672258b-0', usage_metadata={'input_tokens': 828, 'output_tokens': 54, 'total_tokens': 882, 'input_token_details': {'cache_read': 0}}),\n",
      "              HumanMessage(content='I want Americano', additional_kwargs={}, response_metadata={}, id='65e21b99-3496-461c-95db-bc7b50a1c86d'),\n",
      "              AIMessage(content=\"Okay, that's one Americano. Anything else?\", additional_kwargs={}, response_metadata={'prompt_feedback': {'block_reason': 0, 'safety_ratings': []}, 'finish_reason': 'STOP', 'model_name': 'gemini-2.0-flash', 'safety_ratings': []}, id='run-f5dce2b8-7759-48b9-b1a8-a4283e566948-0', usage_metadata={'input_tokens': 884, 'output_tokens': 11, 'total_tokens': 895, 'input_token_details': {'cache_read': 0}}),\n",
      "              HumanMessage(content='that would be all', additional_kwargs={}, response_metadata={}, id='fe9dff88-9878-43dc-85c4-2baf35d8ebb5'),\n",
      "              AIMessage(content='', additional_kwargs={'function_call': {'name': 'confirm_order', 'arguments': '{}'}}, response_metadata={'prompt_feedback': {'block_reason': 0, 'safety_ratings': []}, 'finish_reason': 'STOP', 'model_name': 'gemini-2.0-flash', 'safety_ratings': []}, id='run-530eb9eb-d265-4bae-a531-caa73597aa5b-0', tool_calls=[{'name': 'confirm_order', 'args': {}, 'id': '2e78822f-1c6b-4619-b303-4bbca8b1da7e', 'type': 'tool_call'}], usage_metadata={'input_tokens': 899, 'output_tokens': 3, 'total_tokens': 902, 'input_token_details': {'cache_read': 0}}),\n",
      "              ToolMessage(content='Error: confirm_order is not a valid tool, try one of [get_menu].', name='confirm_order', id='bc74c264-84b1-4031-855f-4dc25c5123a0', tool_call_id='2e78822f-1c6b-4619-b303-4bbca8b1da7e', status='error'),\n",
      "              AIMessage(content='I am very sorry, but I am not able to confirm your order yet. I will need that functionality to be implemented before proceeding.', additional_kwargs={}, response_metadata={'prompt_feedback': {'block_reason': 0, 'safety_ratings': []}, 'finish_reason': 'STOP', 'model_name': 'gemini-2.0-flash', 'safety_ratings': []}, id='run-a08845a9-e10d-431a-88a6-570134cee260-0', usage_metadata={'input_tokens': 925, 'output_tokens': 27, 'total_tokens': 952, 'input_token_details': {'cache_read': 0}}),\n",
      "              HumanMessage(content='q', additional_kwargs={}, response_metadata={}, id='36be4d7f-1529-4750-8876-f80ba3068494')],\n",
      " 'order': []}\n"
     ]
    }
   ],
   "source": [
    "state = graph_with_menu.invoke({\"messages\": []}, config)\n",
    "pprint(state)"
   ]
  },
  {
   "cell_type": "code",
   "execution_count": 27,
   "id": "0eb3c4c5-ff44-40f0-8950-267818aaef36",
   "metadata": {},
   "outputs": [],
   "source": [
    "#Rukovanje sa narudzbinama"
   ]
  },
  {
   "cell_type": "code",
   "execution_count": 28,
   "id": "2206cc30-c646-4d08-ae53-3d5f7bb6a3e1",
   "metadata": {},
   "outputs": [],
   "source": [
    "from collections.abc import Iterable\n",
    "from random import randint\n",
    "\n",
    "from langchain_core.messages.tool import ToolMessage\n",
    "\n",
    "@tool\n",
    "def add_to_order(drink: str, modifiers: Iterable[str]) -> str:\n",
    "    \"\"\"Adds the specified drink to the customer's order, including any modifiers.\n",
    "\n",
    "    Returns:\n",
    "      The updated order in progress.\n",
    "    \"\"\"\n",
    "    \n",
    "@tool\n",
    "def confirm_order() -> str:\n",
    "    \"\"\"Asks the customer if the order is correct.\n",
    "\n",
    "    Returns:\n",
    "      The user's free-text response.\n",
    "    \"\"\"\n",
    "\n",
    "@tool\n",
    "def get_order() -> str:\n",
    "    \"\"\"Returns the users order so far. One item per line.\"\"\"\n",
    "\n",
    "@tool\n",
    "def clear_order():\n",
    "    \"\"\"Removes all items from the user's order.\"\"\"\n",
    "\n",
    "@tool\n",
    "def place_order() -> int:\n",
    "    \"\"\"Sends the order to the barista for fulfillment.\n",
    "\n",
    "    Returns:\n",
    "      The estimated number of minutes until the order is ready.\n",
    "    \"\"\"\n",
    "\n",
    "def order_node(state: OrderState) -> OrderState:\n",
    "    \"\"\"The ordering node. This is where the order state is manipulated.\"\"\"\n",
    "    tool_msg = state.get(\"messages\", [])[-1]\n",
    "    order = state.get(\"order\", [])\n",
    "    outbound_msgs = []\n",
    "    order_placed = False\n",
    "\n",
    "    for tool_call in tool_msg.tool_calls:\n",
    "\n",
    "        if tool_call[\"name\"] == \"add_to_order\":\n",
    "\n",
    "            modifiers = tool_call[\"args\"][\"modifiers\"]\n",
    "            modifier_str = \", \".join(modifiers) if modifiers else \"no modifiers\"\n",
    "\n",
    "            order.append(f'{tool_call[\"args\"][\"drink\"]} ({modifier_str})')\n",
    "            response = \"\\n\".join(order)\n",
    "\n",
    "        elif tool_call[\"name\"] == \"confirm_order\":\n",
    "            print(\"Your order:\")\n",
    "            if not order:\n",
    "                print(\"  (no items)\")\n",
    "\n",
    "            for drink in order:\n",
    "                print(f\"  {drink}\")\n",
    "\n",
    "            response = input(\"Is this correct? \")\n",
    "\n",
    "        elif tool_call[\"name\"] == \"get_order\":\n",
    "\n",
    "            response = \"\\n\".join(order) if order else \"(no order)\"\n",
    "\n",
    "        elif tool_call[\"name\"] == \"clear_order\":\n",
    "\n",
    "            order.clear()\n",
    "            response = None\n",
    "\n",
    "        elif tool_call[\"name\"] == \"place_order\":\n",
    "\n",
    "            order_text = \"\\n\".join(order)\n",
    "            print(\"Sending order to kitchen!\")\n",
    "            print(order_text)\n",
    "\n",
    "            order_placed = True\n",
    "            response = randint(1, 5)\n",
    "\n",
    "        else:\n",
    "            raise NotImplementedError(f'Unknown tool call: {tool_call[\"name\"]}')\n",
    "\n",
    "        outbound_msgs.append(\n",
    "            ToolMessage(\n",
    "                content=response,\n",
    "                name=tool_call[\"name\"],\n",
    "                tool_call_id=tool_call[\"id\"],\n",
    "            )\n",
    "        )\n",
    "\n",
    "    return {\"messages\": outbound_msgs, \"order\": order, \"finished\": order_placed}\n",
    "\n",
    "\n",
    "def maybe_route_to_tools(state: OrderState) -> str:\n",
    "    \"\"\"Route between chat and tool nodes if a tool call is made.\"\"\"\n",
    "    if not (msgs := state.get(\"messages\", [])):\n",
    "        raise ValueError(f\"No messages found when parsing state: {state}\")\n",
    "\n",
    "    msg = msgs[-1]\n",
    "\n",
    "    if state.get(\"finished\", False):\n",
    "        return END\n",
    "\n",
    "    elif hasattr(msg, \"tool_calls\") and len(msg.tool_calls) > 0:\n",
    "        if any(\n",
    "            tool[\"name\"] in tool_node.tools_by_name.keys() for tool in msg.tool_calls\n",
    "        ):\n",
    "            return \"tools\"\n",
    "        else:\n",
    "            return \"ordering\"\n",
    "\n",
    "    else:\n",
    "        return \"human\""
   ]
  },
  {
   "cell_type": "code",
   "execution_count": 29,
   "id": "3f333695-9d56-40b8-91c6-9e95cb7876ac",
   "metadata": {},
   "outputs": [
    {
     "data": {
      "image/png": "[encoded data removed]",
      "text/plain": [
       "<IPython.core.display.Image object>"
      ]
     },
     "execution_count": 29,
     "metadata": {},
     "output_type": "execute_result"
    }
   ],
   "source": [
    "auto_tools = [get_menu]\n",
    "tool_node = ToolNode(auto_tools)\n",
    "\n",
    "order_tools = [add_to_order, confirm_order, get_order, clear_order, place_order]\n",
    "\n",
    "llm_with_tools = llm.bind_tools(auto_tools + order_tools)\n",
    "\n",
    "graph_builder = StateGraph(OrderState)\n",
    "\n",
    "graph_builder.add_node(\"chatbot\", chatbot_with_tools)\n",
    "graph_builder.add_node(\"human\", human_node)\n",
    "graph_builder.add_node(\"tools\", tool_node)\n",
    "graph_builder.add_node(\"ordering\", order_node)\n",
    "\n",
    "graph_builder.add_conditional_edges(\"chatbot\", maybe_route_to_tools)\n",
    "graph_builder.add_conditional_edges(\"human\", maybe_exit_human_node)\n",
    "\n",
    "graph_builder.add_edge(\"tools\", \"chatbot\")\n",
    "graph_builder.add_edge(\"ordering\", \"chatbot\")\n",
    "\n",
    "graph_builder.add_edge(START, \"chatbot\")\n",
    "graph_with_order_tools = graph_builder.compile()\n",
    "\n",
    "Image(graph_with_order_tools.get_graph().draw_mermaid_png())"
   ]
  },
  {
   "cell_type": "code",
   "execution_count": 31,
   "id": "9f20b43c-80ec-475c-b545-d51086b716d1",
   "metadata": {},
   "outputs": [
    {
     "name": "stdout",
     "output_type": "stream",
     "text": [
      "Model: Welcomte to the BaristaBot caffe. Type 'q' to quit. How may I serve you today?\n"
     ]
    },
    {
     "name": "stdin",
     "output_type": "stream",
     "text": [
      "User:  Hello, what is the most European drink that you have\n"
     ]
    },
    {
     "name": "stdout",
     "output_type": "stream",
     "text": [
      "Model: That's a great question! Of the items on our menu, the Macchiato, Cortado, and Flat White are probably the most distinctly European. Would you like to try one of those?\n"
     ]
    },
    {
     "name": "stdin",
     "output_type": "stream",
     "text": [
      "User:  I want Flat Withe\n"
     ]
    },
    {
     "name": "stdout",
     "output_type": "stream",
     "text": [
      "Model: Ok, I have added a Flat White to your order. Would you like anything else?\n"
     ]
    },
    {
     "name": "stdin",
     "output_type": "stream",
     "text": [
      "User:  what modification can I make?\n"
     ]
    },
    {
     "name": "stdout",
     "output_type": "stream",
     "text": [
      "Model: We have several options! For milk, we have Whole, 2%, Oat, Almond, and 2% Lactose Free. You can also adjust the number of espresso shots with Single, Double, Triple, or Quadruple. We also have Decaf or Regular caffeine options, and you can have it Hot or Iced. Finally, we have vanilla sweetener, hazelnut sweetener, caramel sauce, chocolate sauce, and sugar free vanilla sweetener.\n"
     ]
    },
    {
     "name": "stdin",
     "output_type": "stream",
     "text": [
      "User:  I want Almond Milk. Mike it Iced\n"
     ]
    },
    {
     "name": "stdout",
     "output_type": "stream",
     "text": [
      "Model: Ok, I have added a Flat White with Almond Milk and Iced to your order. Would you like anything else?\n"
     ]
    },
    {
     "name": "stdin",
     "output_type": "stream",
     "text": [
      "User:  That is all\n"
     ]
    },
    {
     "name": "stdout",
     "output_type": "stream",
     "text": [
      "Your order:\n",
      "  Flat White (no modifiers)\n",
      "  Flat White (Almond Milk, Iced)\n"
     ]
    },
    {
     "name": "stdin",
     "output_type": "stream",
     "text": [
      "Is this correct?  yes\n"
     ]
    },
    {
     "name": "stdout",
     "output_type": "stream",
     "text": [
      "Model: Ok, so I have:\n",
      "\n",
      "Flat White with no modifiers\n",
      "Flat White with Almond Milk, Iced\n",
      "\n",
      "Is that correct?\n"
     ]
    },
    {
     "name": "stdin",
     "output_type": "stream",
     "text": [
      "User:  yes\n"
     ]
    },
    {
     "name": "stdout",
     "output_type": "stream",
     "text": [
      "Sending order to kitchen!\n",
      "Flat White (no modifiers)\n",
      "Flat White (Almond Milk, Iced)\n"
     ]
    }
   ],
   "source": [
    "state = graph_with_order_tools.invoke({\"messages\": []}, config)"
   ]
  },
  {
   "cell_type": "code",
   "execution_count": null,
   "id": "94ceda0e-eccc-420c-bcf3-57bfa31ead9c",
   "metadata": {},
   "outputs": [],
   "source": [
    "t"
   ]
  }
 ],
 "metadata": {
  "kernelspec": {
   "display_name": "Python 3 (ipykernel)",
   "language": "python",
   "name": "python3"
  },
  "language_info": {
   "codemirror_mode": {
    "name": "ipython",
    "version": 3
   },
   "file_extension": ".py",
   "mimetype": "text/x-python",
   "name": "python",
   "nbconvert_exporter": "python",
   "pygments_lexer": "ipython3",
   "version": "3.12.3"
  }
 },
 "nbformat": 4,
 "nbformat_minor": 5
}
