{
 "cells": [
  {
   "cell_type": "code",
   "execution_count": 1,
   "id": "afdb89db-73d1-4fe3-bac5-865040ac51d4",
   "metadata": {},
   "outputs": [
    {
     "data": {
      "text/plain": [
       "'1.8.0'"
      ]
     },
     "execution_count": 1,
     "metadata": {},
     "output_type": "execute_result"
    }
   ],
   "source": [
    "from google import genai\n",
    "from google.genai import types\n",
    "\n",
    "genai.__version__"
   ]
  },
  {
   "cell_type": "code",
   "execution_count": 2,
   "id": "087e0b5b-3680-46d9-93ae-cd9412ed7e18",
   "metadata": {},
   "outputs": [],
   "source": [
    "import os\n",
    "\n",
    "os.environ[\"GOOGLE_API_KEY\"] = \"***************************************\"\n",
    "GOOGLE_API_KEY = os.getenv(\"GOOGLE_API_KEY\")"
   ]
  },
  {
   "cell_type": "code",
   "execution_count": 3,
   "id": "91958736-b60d-4cc2-a7ce-c16c11fdb6a5",
   "metadata": {},
   "outputs": [],
   "source": [
    "client = genai.Client(api_key=GOOGLE_API_KEY)"
   ]
  },
  {
   "cell_type": "code",
   "execution_count": 4,
   "id": "ac6ffb5b-196e-4112-b4ab-ea65b7f262fe",
   "metadata": {},
   "outputs": [
    {
     "data": {
      "text/plain": [
       "['alt.atheism',\n",
       " 'comp.graphics',\n",
       " 'comp.os.ms-windows.misc',\n",
       " 'comp.sys.ibm.pc.hardware',\n",
       " 'comp.sys.mac.hardware',\n",
       " 'comp.windows.x',\n",
       " 'misc.forsale',\n",
       " 'rec.autos',\n",
       " 'rec.motorcycles',\n",
       " 'rec.sport.baseball',\n",
       " 'rec.sport.hockey',\n",
       " 'sci.crypt',\n",
       " 'sci.electronics',\n",
       " 'sci.med',\n",
       " 'sci.space',\n",
       " 'soc.religion.christian',\n",
       " 'talk.politics.guns',\n",
       " 'talk.politics.mideast',\n",
       " 'talk.politics.misc',\n",
       " 'talk.religion.misc']"
      ]
     },
     "execution_count": 4,
     "metadata": {},
     "output_type": "execute_result"
    }
   ],
   "source": [
    "from sklearn.datasets import fetch_20newsgroups\n",
    "\n",
    "newsgroups_train = fetch_20newsgroups(subset=\"train\")\n",
    "newsgroups_test = fetch_20newsgroups(subset=\"test\")\n",
    "\n",
    "newsgroups_train.target_names"
   ]
  },
  {
   "cell_type": "code",
   "execution_count": 5,
   "id": "ae604d8b-418b-470e-b53c-95a9cc447414",
   "metadata": {},
   "outputs": [
    {
     "name": "stdout",
     "output_type": "stream",
     "text": [
      "From: lerxst@wam.umd.edu (where's my thing)\n",
      "Subject: WHAT car is this!?\n",
      "Nntp-Posting-Host: rac3.wam.umd.edu\n",
      "Organization: University of Maryland, College Park\n",
      "Lines: 15\n",
      "\n",
      " I was wondering if anyone out there could enlighten me on this car I saw\n",
      "the other day. It was a 2-door sports car, looked to be from the late 60s/\n",
      "early 70s. It was called a Bricklin. The doors were really small. In addition,\n",
      "the front bumper was separate from the rest of the body. This is \n",
      "all I know. If anyone can tellme a model name, engine specs, years\n",
      "of production, where this car is made, history, or whatever info you\n",
      "have on this funky looking car, please e-mail.\n",
      "\n",
      "Thanks,\n",
      "- IL\n",
      "   ---- brought to you by your neighborhood Lerxst ----\n",
      "\n",
      "\n",
      "\n",
      "\n",
      "\n"
     ]
    }
   ],
   "source": [
    "print(newsgroups_train.data[0])"
   ]
  },
  {
   "cell_type": "code",
   "execution_count": 6,
   "id": "2ea26633-0afa-4404-987c-d6cd1157451e",
   "metadata": {},
   "outputs": [],
   "source": [
    "import email\n",
    "import re\n",
    "\n",
    "import pandas as pd\n",
    "\n",
    "def preprocess_newsgroup_row(data):\n",
    "    msg = email.message_from_string(data)\n",
    "    text = f\"{msg['Subject']}\\n\\n{msg.get_payload()}\"\n",
    "    text = re.sub(r\"[\\w\\.-]+@[\\w\\.-]+\", \"\", text)\n",
    "    text = text[:40000]\n",
    "\n",
    "    return text\n",
    "\n",
    "def preprocess_newsgroup_data(newsgroup_dataset):\n",
    "    df = pd.DataFrame(\n",
    "        {\"Text\": newsgroup_dataset.data, \"Label\": newsgroup_dataset.target}\n",
    "    )\n",
    "    df[\"Text\"] = df[\"Text\"].apply(preprocess_newsgroup_row)\n",
    "    df[\"Class Name\"] = df[\"Label\"].map(lambda l: newsgroup_dataset.target_names[l])\n",
    "\n",
    "    return df"
   ]
  },
  {
   "cell_type": "code",
   "execution_count": 7,
   "id": "9b246f14-9633-494b-be84-394f2c5e4634",
   "metadata": {},
   "outputs": [
    {
     "data": {
      "text/html": [
       "<div>\n",
       "<style scoped>\n",
       "    .dataframe tbody tr th:only-of-type {\n",
       "        vertical-align: middle;\n",
       "    }\n",
       "\n",
       "    .dataframe tbody tr th {\n",
       "        vertical-align: top;\n",
       "    }\n",
       "\n",
       "    .dataframe thead th {\n",
       "        text-align: right;\n",
       "    }\n",
       "</style>\n",
       "<table border=\"1\" class=\"dataframe\">\n",
       "  <thead>\n",
       "    <tr style=\"text-align: right;\">\n",
       "      <th></th>\n",
       "      <th>Text</th>\n",
       "      <th>Label</th>\n",
       "      <th>Class Name</th>\n",
       "    </tr>\n",
       "  </thead>\n",
       "  <tbody>\n",
       "    <tr>\n",
       "      <th>0</th>\n",
       "      <td>WHAT car is this!?\\n\\n I was wondering if anyo...</td>\n",
       "      <td>7</td>\n",
       "      <td>rec.autos</td>\n",
       "    </tr>\n",
       "    <tr>\n",
       "      <th>1</th>\n",
       "      <td>SI Clock Poll - Final Call\\n\\nA fair number of...</td>\n",
       "      <td>4</td>\n",
       "      <td>comp.sys.mac.hardware</td>\n",
       "    </tr>\n",
       "    <tr>\n",
       "      <th>2</th>\n",
       "      <td>PB questions...\\n\\nwell folks, my mac plus fin...</td>\n",
       "      <td>4</td>\n",
       "      <td>comp.sys.mac.hardware</td>\n",
       "    </tr>\n",
       "    <tr>\n",
       "      <th>3</th>\n",
       "      <td>Re: Weitek P9000 ?\\n\\nRobert J.C. Kyanko () wr...</td>\n",
       "      <td>1</td>\n",
       "      <td>comp.graphics</td>\n",
       "    </tr>\n",
       "    <tr>\n",
       "      <th>4</th>\n",
       "      <td>Re: Shuttle Launch Question\\n\\nFrom article &lt;&gt;...</td>\n",
       "      <td>14</td>\n",
       "      <td>sci.space</td>\n",
       "    </tr>\n",
       "  </tbody>\n",
       "</table>\n",
       "</div>"
      ],
      "text/plain": [
       "                                                Text  Label  \\\n",
       "0  WHAT car is this!?\\n\\n I was wondering if anyo...      7   \n",
       "1  SI Clock Poll - Final Call\\n\\nA fair number of...      4   \n",
       "2  PB questions...\\n\\nwell folks, my mac plus fin...      4   \n",
       "3  Re: Weitek P9000 ?\\n\\nRobert J.C. Kyanko () wr...      1   \n",
       "4  Re: Shuttle Launch Question\\n\\nFrom article <>...     14   \n",
       "\n",
       "              Class Name  \n",
       "0              rec.autos  \n",
       "1  comp.sys.mac.hardware  \n",
       "2  comp.sys.mac.hardware  \n",
       "3          comp.graphics  \n",
       "4              sci.space  "
      ]
     },
     "execution_count": 7,
     "metadata": {},
     "output_type": "execute_result"
    }
   ],
   "source": [
    "df_train = preprocess_newsgroup_data(newsgroups_train)\n",
    "df_test = preprocess_newsgroup_data(newsgroups_test)\n",
    "\n",
    "df_train.head()"
   ]
  },
  {
   "cell_type": "code",
   "execution_count": 8,
   "id": "00fa4cb8-181f-40c3-b9bd-f24746ac6933",
   "metadata": {},
   "outputs": [],
   "source": [
    "def sample_data(df, num_samples, classes_to_keep):\n",
    "    df = (\n",
    "        df.groupby(\"Label\")[df.columns]\n",
    "        .apply(lambda x: x.sample(num_samples))\n",
    "        .reset_index(drop=True)\n",
    "    )\n",
    "\n",
    "    df = df[df[\"Class Name\"].str.contains(classes_to_keep)]\n",
    "    df[\"Class Name\"] = df[\"Class Name\"].astype(\"category\")\n",
    "\n",
    "    return df\n",
    "\n",
    "TRAIN_NUM_SAMPLES = 50\n",
    "TEST_NUM_SAMPLES = 10\n",
    "# Keep rec.* and sci.*\n",
    "CLASSES_TO_KEEP = \"^rec|^sci\"\n",
    "\n",
    "df_train = sample_data(df_train, TRAIN_NUM_SAMPLES, CLASSES_TO_KEEP)\n",
    "df_test = sample_data(df_test, TEST_NUM_SAMPLES, CLASSES_TO_KEEP)"
   ]
  },
  {
   "cell_type": "code",
   "execution_count": 9,
   "id": "a9017029-0ece-424f-b541-c36602ccc39e",
   "metadata": {},
   "outputs": [],
   "source": [
    "#Evaluacija pocetnog stanja"
   ]
  },
  {
   "cell_type": "code",
   "execution_count": 10,
   "id": "6a6d97fe-729a-4574-bbdd-1edd833a98f9",
   "metadata": {},
   "outputs": [
    {
     "name": "stdout",
     "output_type": "stream",
     "text": [
      "Need info on 88-89 Bonneville\n",
      "\n",
      "\n",
      " I am a little confused on all of the models of the 88-89 bonnevilles.\n",
      "I have heard of the LE SE LSE SSE SSEI. Could someone tell me the\n",
      "differences are far as features or performance. I am also curious to\n",
      "know what the book value is for prefereably the 89 model. And how much\n",
      "less than book value can you usually get them for. In other words how\n",
      "much are they in demand this time of year. I have heard that the mid-spring\n",
      "early summer is the best time to buy.\n",
      "\n",
      "\t\t\tNeil Gandler\n",
      "\n",
      "---\n",
      "Label: rec.autos\n"
     ]
    }
   ],
   "source": [
    "sample_idx = 0\n",
    "sample_row = preprocess_newsgroup_row(newsgroups_test.data[sample_idx])\n",
    "sample_label = newsgroups_test.target_names[newsgroups_test.target[sample_idx]]\n",
    "\n",
    "print(sample_row)\n",
    "print('---')\n",
    "print('Label:', sample_label)"
   ]
  },
  {
   "cell_type": "code",
   "execution_count": 11,
   "id": "29ad13ee-c3ce-4a6d-90fd-36bc9de4ee4a",
   "metadata": {},
   "outputs": [
    {
     "name": "stdout",
     "output_type": "stream",
     "text": [
      "You're right, there were a lot of Bonneville trims in 1988-89! Here's a breakdown to help clarify:\n",
      "\n",
      "**1988-1989 Bonneville Trim Levels:**\n",
      "\n",
      "* **LE:**  The base model, featuring standard features for the time like a V6 engine, cloth upholstery, and basic power options.\n",
      "* **SE:**  (Sport Edition) Added features like a slightly more powerful engine, sport suspension, and some cosmetic upgrades.\n",
      "* **LSE:** (Luxury Sport Edition) Combined the comfort of the LE with the performance of the SE, offering leather seats, a more powerful V6, and additional comfort features.\n",
      "* **SSE:**  (Special Sport Edition)  Offered the most power with its V8 engine, along with a sporty exterior and interior, and enhanced handling.\n",
      "* **SSEi:** (Special Sport Edition Injection)  This was the top-of-the-line Bonneville model. It included the same powerful V8 as the SSE but with fuel injection for improved performance and fuel economy. \n",
      "\n",
      "**Value & Demand:**\n",
      "\n",
      "* **Book Value:**  The Kelley Blue Book website ([https://www.kbb.com/](https://www.kbb.com/)) is your best resource for current book values. You'll need to enter the model year, trim level, mileage, and condition to get an accurate estimate. \n",
      "* **Demand:**  Demand for classic Bonnevilles is generally stable year-round. However, you might find slightly better deals during the shoulder seasons (spring and fall) when dealerships are trying to move inventory. \n",
      "* **Price Negotiation:**  You can typically negotiate anywhere from 10% to 20% off the book value, depending on the condition of the car, its mileage, and the seller's motivation. \n",
      "\n",
      "**Important Factors to Consider:**\n",
      "\n",
      "* **Condition:**  Look for a well-maintained Bonneville with a clean history. \n",
      "* **Mileage:**  Lower mileage is always better for a classic car.\n",
      "* **Engine:**  The V8 engines in the SSE and SSEi are known for their power, but be sure to inspect them thoroughly for any signs of wear. \n",
      "* **Rust:**  Bonnevilles were prone to rust, so inspect for any signs of it, especially in the body panels, undercarriage, and around the wheel wells. \n",
      "\n",
      "**Finding the Right Bonneville:**\n",
      "\n",
      "* **Online Marketplaces:**  Websites like Craigslist, eBay, and Facebook Marketplace are good places to start your search. \n",
      "* **Classic Car Dealerships:**  Specialty car dealerships often have a selection of classic Bonnevilles. \n",
      "* **Local Car Shows:**  Attend local car shows to see Bonnevilles in person and talk to owners. \n",
      "\n",
      "Remember, doing your research, inspecting the car thoroughly, and negotiating carefully will help you find a great deal on a classic Bonneville. \n",
      "\n"
     ]
    }
   ],
   "source": [
    "response = client.models.generate_content(\n",
    "    model=\"gemini-1.5-flash-001\", contents=sample_row)\n",
    "print(response.text)"
   ]
  },
  {
   "cell_type": "code",
   "execution_count": 14,
   "id": "98c6a084-69cf-4dba-9333-963d4b8ac7a9",
   "metadata": {},
   "outputs": [
    {
     "name": "stdout",
     "output_type": "stream",
     "text": [
      "rec.autos.misc\n",
      "\n",
      "Incorrect.\n"
     ]
    }
   ],
   "source": [
    "from google.api_core import retry\n",
    "\n",
    "system_instruct = \"\"\"\n",
    "You are a classification service. You will be passed input that represents\n",
    "a newsgroup post and you must respond with the newsgroup from which the post\n",
    "originates.\n",
    "\"\"\"\n",
    "\n",
    "is_retriable = lambda e: (isinstance(e, genai.errors.APIError) and e.code in {429, 503})\n",
    "\n",
    "@retry.Retry(predicate=is_retriable)\n",
    "def predict_label(post: str) -> str:\n",
    "    response = client.models.generate_content(\n",
    "        model=\"gemini-1.5-flash-001\",\n",
    "        config=types.GenerateContentConfig(\n",
    "            system_instruction=system_instruct),\n",
    "        contents=post)\n",
    "\n",
    "    rc = response.candidates[0]\n",
    "\n",
    "    if rc.finish_reason.name != \"STOP\":\n",
    "        return \"(error)\"\n",
    "    else:\n",
    "        return response.text.strip()\n",
    "\n",
    "prediction = predict_label(sample_row)\n",
    "\n",
    "print(prediction)\n",
    "print()\n",
    "print(\"Correct!\" if prediction == sample_label else \"Incorrect.\")"
   ]
  },
  {
   "cell_type": "code",
   "execution_count": 15,
   "id": "5b1d7a49-961e-40d7-a11b-e6a967be5304",
   "metadata": {},
   "outputs": [
    {
     "data": {
      "application/vnd.jupyter.widget-view+json": {
       "model_id": "566853eea4cd409ba25ff2fa81cb12f3",
       "version_major": 2,
       "version_minor": 0
      },
      "text/plain": [
       "Output()"
      ]
     },
     "metadata": {},
     "output_type": "display_data"
    },
    {
     "data": {
      "text/html": [
       "<pre style=\"white-space:pre;overflow-x:auto;line-height:normal;font-family:Menlo,'DejaVu Sans Mono',consolas,'Courier New',monospace\"></pre>\n"
      ],
      "text/plain": []
     },
     "metadata": {},
     "output_type": "display_data"
    },
    {
     "data": {
      "text/html": [
       "<pre style=\"white-space:pre;overflow-x:auto;line-height:normal;font-family:Menlo,'DejaVu Sans Mono',consolas,'Courier New',monospace\">\n",
       "</pre>\n"
      ],
      "text/plain": [
       "\n"
      ]
     },
     "metadata": {},
     "output_type": "display_data"
    },
    {
     "name": "stdout",
     "output_type": "stream",
     "text": [
      "Accuracy: 18.75%\n"
     ]
    }
   ],
   "source": [
    "import tqdm\n",
    "from tqdm.rich import tqdm as tqdmr\n",
    "import warnings\n",
    "\n",
    "tqdmr.pandas()\n",
    "\n",
    "warnings.filterwarnings(\"ignore\", category=tqdm.TqdmExperimentalWarning)\n",
    "\n",
    "df_baseline_eval = sample_data(df_test, 2, '.*')\n",
    "\n",
    "df_baseline_eval['Prediction'] = df_baseline_eval['Text'].progress_apply(predict_label)\n",
    "\n",
    "accuracy = (df_baseline_eval[\"Class Name\"] == df_baseline_eval[\"Prediction\"]).sum() / len(df_baseline_eval)\n",
    "print(f\"Accuracy: {accuracy:.2%}\")"
   ]
  },
  {
   "cell_type": "code",
   "execution_count": 16,
   "id": "99a50213-5e7e-428b-aeb5-952a909fed77",
   "metadata": {},
   "outputs": [
    {
     "data": {
      "text/html": [
       "<div>\n",
       "<style scoped>\n",
       "    .dataframe tbody tr th:only-of-type {\n",
       "        vertical-align: middle;\n",
       "    }\n",
       "\n",
       "    .dataframe tbody tr th {\n",
       "        vertical-align: top;\n",
       "    }\n",
       "\n",
       "    .dataframe thead th {\n",
       "        text-align: right;\n",
       "    }\n",
       "</style>\n",
       "<table border=\"1\" class=\"dataframe\">\n",
       "  <thead>\n",
       "    <tr style=\"text-align: right;\">\n",
       "      <th></th>\n",
       "      <th>Text</th>\n",
       "      <th>Label</th>\n",
       "      <th>Class Name</th>\n",
       "      <th>Prediction</th>\n",
       "    </tr>\n",
       "  </thead>\n",
       "  <tbody>\n",
       "    <tr>\n",
       "      <th>0</th>\n",
       "      <td>Re: Opinions on 88-89 Pontiac Bonneville\\n\\nIn...</td>\n",
       "      <td>7</td>\n",
       "      <td>rec.autos</td>\n",
       "      <td>rec.autos.cars</td>\n",
       "    </tr>\n",
       "    <tr>\n",
       "      <th>1</th>\n",
       "      <td>Diatribe on US-sold Opels (was Re: Opel owners...</td>\n",
       "      <td>7</td>\n",
       "      <td>rec.autos</td>\n",
       "      <td>rec.autos.opel</td>\n",
       "    </tr>\n",
       "    <tr>\n",
       "      <th>2</th>\n",
       "      <td>Re: story\\n\\nIn article &lt;&gt;,  (Charles Sundheim...</td>\n",
       "      <td>8</td>\n",
       "      <td>rec.motorcycles</td>\n",
       "      <td>rec.motorcycles</td>\n",
       "    </tr>\n",
       "    <tr>\n",
       "      <th>3</th>\n",
       "      <td>Re: Zipper repairs (Was: ...Tankbag...)\\n\\nIn ...</td>\n",
       "      <td>8</td>\n",
       "      <td>rec.motorcycles</td>\n",
       "      <td>rec.motorcycles</td>\n",
       "    </tr>\n",
       "    <tr>\n",
       "      <th>4</th>\n",
       "      <td>Red Sox Choke Contest\\n\\nTo encourage the grea...</td>\n",
       "      <td>9</td>\n",
       "      <td>rec.sport.baseball</td>\n",
       "      <td>rec.sports.baseball.misc</td>\n",
       "    </tr>\n",
       "    <tr>\n",
       "      <th>5</th>\n",
       "      <td>Re: Rule Book Trivia 2\\n\\nIn article &lt;&gt; Ryan R...</td>\n",
       "      <td>9</td>\n",
       "      <td>rec.sport.baseball</td>\n",
       "      <td>rec.sports.baseball</td>\n",
       "    </tr>\n",
       "    <tr>\n",
       "      <th>6</th>\n",
       "      <td>Re: Pens fans reactions\\n\\nRichard J Coyle (go...</td>\n",
       "      <td>10</td>\n",
       "      <td>rec.sport.hockey</td>\n",
       "      <td>rec.sports.hockey</td>\n",
       "    </tr>\n",
       "    <tr>\n",
       "      <th>7</th>\n",
       "      <td>Islanders win Third in OT\\n\\nDon't know who sc...</td>\n",
       "      <td>10</td>\n",
       "      <td>rec.sport.hockey</td>\n",
       "      <td>rec.sports.hockey</td>\n",
       "    </tr>\n",
       "    <tr>\n",
       "      <th>8</th>\n",
       "      <td>Re: The [secret] source of that announcement\\n...</td>\n",
       "      <td>11</td>\n",
       "      <td>sci.crypt</td>\n",
       "      <td>comp.sys.ibm.pc.hardware</td>\n",
       "    </tr>\n",
       "    <tr>\n",
       "      <th>9</th>\n",
       "      <td>Re: Do we need the clipper for cheap security?...</td>\n",
       "      <td>11</td>\n",
       "      <td>sci.crypt</td>\n",
       "      <td>comp.dcom.modems</td>\n",
       "    </tr>\n",
       "    <tr>\n",
       "      <th>10</th>\n",
       "      <td>Pre-fab PC case/power supplies and CSA/UL/FCC ...</td>\n",
       "      <td>12</td>\n",
       "      <td>sci.electronics</td>\n",
       "      <td>comp.sys.ibm.pc.hardware</td>\n",
       "    </tr>\n",
       "    <tr>\n",
       "      <th>11</th>\n",
       "      <td>Re: How universal are phones these days?\\n\\n\\n...</td>\n",
       "      <td>12</td>\n",
       "      <td>sci.electronics</td>\n",
       "      <td>rec.telecomm.misc</td>\n",
       "    </tr>\n",
       "    <tr>\n",
       "      <th>12</th>\n",
       "      <td>Re: Krillean Photography\\n\\nvery good.\\n\\n</td>\n",
       "      <td>13</td>\n",
       "      <td>sci.med</td>\n",
       "      <td>rec.photo.equipment</td>\n",
       "    </tr>\n",
       "    <tr>\n",
       "      <th>13</th>\n",
       "      <td>Re: Krillean Photography\\n\\nIn article &lt;&gt;, E.A...</td>\n",
       "      <td>13</td>\n",
       "      <td>sci.med</td>\n",
       "      <td>alt.folklore.urban</td>\n",
       "    </tr>\n",
       "    <tr>\n",
       "      <th>14</th>\n",
       "      <td>Re: STS-57 inclination?\\n\\nFrom article &lt;&gt;, by...</td>\n",
       "      <td>14</td>\n",
       "      <td>sci.space</td>\n",
       "      <td>space.shuttle.launching</td>\n",
       "    </tr>\n",
       "    <tr>\n",
       "      <th>15</th>\n",
       "      <td>Re: HST Servicing Mission Scheduled for 11 Day...</td>\n",
       "      <td>14</td>\n",
       "      <td>sci.space</td>\n",
       "      <td>sci.space</td>\n",
       "    </tr>\n",
       "  </tbody>\n",
       "</table>\n",
       "</div>"
      ],
      "text/plain": [
       "                                                 Text  Label  \\\n",
       "0   Re: Opinions on 88-89 Pontiac Bonneville\\n\\nIn...      7   \n",
       "1   Diatribe on US-sold Opels (was Re: Opel owners...      7   \n",
       "2   Re: story\\n\\nIn article <>,  (Charles Sundheim...      8   \n",
       "3   Re: Zipper repairs (Was: ...Tankbag...)\\n\\nIn ...      8   \n",
       "4   Red Sox Choke Contest\\n\\nTo encourage the grea...      9   \n",
       "5   Re: Rule Book Trivia 2\\n\\nIn article <> Ryan R...      9   \n",
       "6   Re: Pens fans reactions\\n\\nRichard J Coyle (go...     10   \n",
       "7   Islanders win Third in OT\\n\\nDon't know who sc...     10   \n",
       "8   Re: The [secret] source of that announcement\\n...     11   \n",
       "9   Re: Do we need the clipper for cheap security?...     11   \n",
       "10  Pre-fab PC case/power supplies and CSA/UL/FCC ...     12   \n",
       "11  Re: How universal are phones these days?\\n\\n\\n...     12   \n",
       "12         Re: Krillean Photography\\n\\nvery good.\\n\\n     13   \n",
       "13  Re: Krillean Photography\\n\\nIn article <>, E.A...     13   \n",
       "14  Re: STS-57 inclination?\\n\\nFrom article <>, by...     14   \n",
       "15  Re: HST Servicing Mission Scheduled for 11 Day...     14   \n",
       "\n",
       "            Class Name                Prediction  \n",
       "0            rec.autos            rec.autos.cars  \n",
       "1            rec.autos            rec.autos.opel  \n",
       "2      rec.motorcycles           rec.motorcycles  \n",
       "3      rec.motorcycles           rec.motorcycles  \n",
       "4   rec.sport.baseball  rec.sports.baseball.misc  \n",
       "5   rec.sport.baseball       rec.sports.baseball  \n",
       "6     rec.sport.hockey         rec.sports.hockey  \n",
       "7     rec.sport.hockey         rec.sports.hockey  \n",
       "8            sci.crypt  comp.sys.ibm.pc.hardware  \n",
       "9            sci.crypt          comp.dcom.modems  \n",
       "10     sci.electronics  comp.sys.ibm.pc.hardware  \n",
       "11     sci.electronics         rec.telecomm.misc  \n",
       "12             sci.med       rec.photo.equipment  \n",
       "13             sci.med        alt.folklore.urban  \n",
       "14           sci.space   space.shuttle.launching  \n",
       "15           sci.space                 sci.space  "
      ]
     },
     "execution_count": 16,
     "metadata": {},
     "output_type": "execute_result"
    }
   ],
   "source": [
    "df_baseline_eval"
   ]
  },
  {
   "cell_type": "code",
   "execution_count": 17,
   "id": "1b81db94-1959-4ad5-8ff3-ffb9b1df2919",
   "metadata": {},
   "outputs": [],
   "source": [
    "#Sada ce da model prilagodi podacima. Cilj je da promtovanje kao i sistemske instrukcije postanu nepotrebne"
   ]
  },
  {
   "cell_type": "code",
   "execution_count": 18,
   "id": "4b06e9fd-7d48-4507-8aa4-642a04dc2339",
   "metadata": {},
   "outputs": [
    {
     "name": "stderr",
     "output_type": "stream",
     "text": [
      "/tmp/ipykernel_5297/2110305589.py:29: ExperimentalWarning: The SDK's tuning implementation is experimental, and may change in future versions.\n",
      "  tuning_op = client.tunings.tune(\n"
     ]
    },
    {
     "name": "stdout",
     "output_type": "stream",
     "text": [
      "JobState.JOB_STATE_QUEUED\n",
      "tunedModels/newsgroup-classification-model-hctmn1wig\n"
     ]
    }
   ],
   "source": [
    "from collections.abc import Iterable\n",
    "import random\n",
    "\n",
    "input_data = {'examples': \n",
    "    df_train[['Text', 'Class Name']]\n",
    "      .rename(columns={'Text': 'textInput', 'Class Name': 'output'})\n",
    "      .to_dict(orient='records')\n",
    " }\n",
    "\n",
    "model_id = None\n",
    "\n",
    "if not model_id:\n",
    "  queued_model = None\n",
    "  for m in reversed(client.tunings.list()):\n",
    "    if m.name.startswith('tunedModels/newsgroup-classification-model'):\n",
    "      if m.state.name == 'JOB_STATE_SUCCEEDED':\n",
    "        model_id = m.name\n",
    "        print('Found existing tuned model to reuse.')\n",
    "        break\n",
    "\n",
    "      elif m.state.name == 'JOB_STATE_RUNNING' and not queued_model:\n",
    "        queued_model = m.name\n",
    "  else:\n",
    "    if queued_model:\n",
    "      model_id = queued_model\n",
    "      print('Found queued model, still waiting.')\n",
    "\n",
    "if not model_id:\n",
    "    tuning_op = client.tunings.tune(\n",
    "        base_model=\"models/gemini-1.5-flash-001-tuning\",\n",
    "        training_dataset=input_data,\n",
    "        config=types.CreateTuningJobConfig(\n",
    "            tuned_model_display_name=\"Newsgroup classification model\",\n",
    "            batch_size=16,\n",
    "            epoch_count=2,\n",
    "        ),\n",
    "    )\n",
    "\n",
    "    print(tuning_op.state)\n",
    "    model_id = tuning_op.name\n",
    "\n",
    "print(model_id)"
   ]
  },
  {
   "cell_type": "code",
   "execution_count": 20,
   "id": "c881fbfe-62f9-41cd-9dcf-608dbc1d75d9",
   "metadata": {},
   "outputs": [],
   "source": [
    "#Treniranje modela se ovim procesom desava u pozadini\n",
    "#uzeo sam vec gotov model da ne bih cekao satima"
   ]
  },
  {
   "cell_type": "code",
   "execution_count": 19,
   "id": "fc3006ed-e8e8-456b-a8c6-6c285ad06d29",
   "metadata": {},
   "outputs": [
    {
     "name": "stdout",
     "output_type": "stream",
     "text": [
      "JobState.JOB_STATE_RUNNING\n",
      "Taking a shortcut, using a previously prepared model.\n",
      "Done! The model state is: JOB_STATE_SUCCEEDED\n"
     ]
    }
   ],
   "source": [
    "import datetime\n",
    "import time\n",
    "\n",
    "MAX_WAIT = datetime.timedelta(minutes=10)\n",
    "\n",
    "while not (tuned_model := client.tunings.get(name=model_id)).has_ended:\n",
    "\n",
    "    print(tuned_model.state)\n",
    "    time.sleep(60)\n",
    "\n",
    "    if datetime.datetime.now(datetime.timezone.utc) - tuned_model.create_time > MAX_WAIT:\n",
    "        print(\"Taking a shortcut, using a previously prepared model.\")\n",
    "        model_id = \"tunedModels/newsgroup-classification-model-ltenbi1b\"\n",
    "        tuned_model = client.tunings.get(name=model_id)\n",
    "        break\n",
    "\n",
    "\n",
    "print(f\"Done! The model state is: {tuned_model.state.name}\")\n",
    "\n",
    "if not tuned_model.has_succeeded and tuned_model.error:\n",
    "    print(\"Error:\", tuned_model.error)\n",
    "\n"
   ]
  },
  {
   "cell_type": "code",
   "execution_count": 22,
   "id": "05d0d779-b0ff-473d-b1d4-33e9f84facaf",
   "metadata": {},
   "outputs": [
    {
     "data": {
      "application/vnd.jupyter.widget-view+json": {
       "model_id": "30e8a16eea25405c91fc4f41af4fabfd",
       "version_major": 2,
       "version_minor": 0
      },
      "text/plain": [
       "Output()"
      ]
     },
     "metadata": {},
     "output_type": "display_data"
    },
    {
     "data": {
      "text/html": [
       "<pre style=\"white-space:pre;overflow-x:auto;line-height:normal;font-family:Menlo,'DejaVu Sans Mono',consolas,'Courier New',monospace\"></pre>\n"
      ],
      "text/plain": []
     },
     "metadata": {},
     "output_type": "display_data"
    },
    {
     "data": {
      "text/html": [
       "<pre style=\"white-space:pre;overflow-x:auto;line-height:normal;font-family:Menlo,'DejaVu Sans Mono',consolas,'Courier New',monospace\">\n",
       "</pre>\n"
      ],
      "text/plain": [
       "\n"
      ]
     },
     "metadata": {},
     "output_type": "display_data"
    },
    {
     "name": "stdout",
     "output_type": "stream",
     "text": [
      "Accuracy: 90.62%\n"
     ]
    }
   ],
   "source": [
    "@retry.Retry(predicate=is_retriable)\n",
    "def classify_text(text: str) -> str:\n",
    "    response = client.models.generate_content(\n",
    "        model=model_id, contents=text)\n",
    "    rc = response.candidates[0]\n",
    "\n",
    "    if rc.finish_reason.name != \"STOP\":\n",
    "        return \"(error)\"\n",
    "    else:\n",
    "        return rc.content.parts[0].text\n",
    "\n",
    "\n",
    "df_model_eval = sample_data(df_test, 4, '.*')\n",
    "\n",
    "df_model_eval[\"Prediction\"] = df_model_eval[\"Text\"].progress_apply(classify_text)\n",
    "\n",
    "accuracy = (df_model_eval[\"Class Name\"] == df_model_eval[\"Prediction\"]).sum() / len(df_model_eval)\n",
    "print(f\"Accuracy: {accuracy:.2%}\")"
   ]
  },
  {
   "cell_type": "code",
   "execution_count": null,
   "id": "6b0a9146-6e9b-4f25-8a42-01c5aea5697d",
   "metadata": {},
   "outputs": [],
   "source": []
  }
 ],
 "metadata": {
  "kernelspec": {
   "display_name": "Python 3 (ipykernel)",
   "language": "python",
   "name": "python3"
  },
  "language_info": {
   "codemirror_mode": {
    "name": "ipython",
    "version": 3
   },
   "file_extension": ".py",
   "mimetype": "text/x-python",
   "name": "python",
   "nbconvert_exporter": "python",
   "pygments_lexer": "ipython3",
   "version": "3.12.3"
  }
 },
 "nbformat": 4,
 "nbformat_minor": 5
}
